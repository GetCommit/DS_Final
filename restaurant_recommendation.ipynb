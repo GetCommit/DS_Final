{
 "cells": [
  {
   "cell_type": "code",
   "execution_count": 27,
   "metadata": {},
   "outputs": [],
   "source": [
    "import pandas as pd\n",
    "import numpy as np\n",
    "from sklearn import preprocessing"
   ]
  },
  {
   "cell_type": "code",
   "execution_count": 129,
   "metadata": {},
   "outputs": [],
   "source": [
    "def select_records(yelp_dohmh_property):\n",
    "    df = yelp_dohmh_property.sort_values(by = 'GRADE DATE')\n",
    "    df = df.drop_duplicates(subset ='Name', keep = 'last').reset_index()\n",
    "    return df\n",
    "\n",
    "def get_cos_similarity(rest, other_rest):\n",
    "    \"\"\"\n",
    "    compute cosine similarity between a resturant profile with another resturant profiles\n",
    "    rest, other_rest: array\n",
    "    \"\"\"\n",
    "    dot_product = np.dot(rest, other_rest)\n",
    "    denominator = np.linalg.norm(rest)* np.linalg.norm(other_rest)\n",
    "    return dot_product/denominator \n",
    "\n",
    "\n",
    "def compute_cos_all(rest_id, all_rest):\n",
    "    \"\"\"\n",
    "    compute cosine similarities between a resturant profile with all other resturant profiles,\n",
    "    return cosine similarity score.\n",
    "    rest_id : id of a resturant, number \n",
    "    all_rest: array of normalized resturant profiles\n",
    "    \"\"\"\n",
    "    other_rest= np.delete(all_rest, rest_id, 0)\n",
    "    other_rest_score = []\n",
    "    for i in range(len(other_rest)):\n",
    "        cos_score = get_cos_similarity(all_rest[rest_id], other_rest[i])\n",
    "        other_rest_score.append(cos_score)\n",
    "    other_rest_score = np.array(other_rest_score)\n",
    "    return other_rest_score\n",
    "\n",
    "\n",
    "def normalize(df):\n",
    "    min_max_scaler = preprocessing.MinMaxScaler()\n",
    "    minmax_df = min_max_scaler.fit_transform(df)\n",
    "    return minmax_df\n",
    "            \n",
    "\n",
    "def find_topk_restaurants(rest_id, rest_df, topk = 5):\n",
    "    \"\"\" \n",
    "    find top k similary restaurants of rest_id according to cosines similarity.\n",
    "    \"\"\"\n",
    "    rest_features = rest_df[['SCORE','CUISINE DESCRIPTION','AVERAGE PRICE', 'review_count', 'rating', 'price']]\n",
    "    rest_scores = compute_cos_all(rest_id, normalize(np.array(pd.get_dummies(rest_features))))\n",
    "    \n",
    "    topk_rest_scores = np.sort(rest_scores)[(len(rest_scores)-topk): len(rest_scores)][::-1]\n",
    "    rest_indexes = np.argsort(rest_scores)[(len(rest_scores)-topk): len(rest_scores)][::-1]\n",
    "    \n",
    "    topk_rest_names = []\n",
    "    topk_rest_cuisine = []\n",
    "    topk_rest_address = []\n",
    "    for i in rest_indexes:\n",
    "        topk_rest_names.append(rest_df['Name'][i])\n",
    "        topk_rest_cuisine.append(rest_df['CUISINE DESCRIPTION'][i])\n",
    "        topk_rest_address.append(rest_df['address'][i])\n",
    "    return pd.DataFrame({'Resturant Name':topk_rest_names, \n",
    "                         'Cuisine Type':topk_rest_cuisine, \n",
    "                         'Address': topk_rest_address,\n",
    "                         'Similarity Score':topk_rest_scores})"
   ]
  },
  {
   "cell_type": "code",
   "execution_count": 133,
   "metadata": {},
   "outputs": [],
   "source": [
    "yelp_dohmh_property = pd.read_csv('yelp_dohmh_property.csv', index_col=[0])\n",
    "resturants = select_records(yelp_dohmh_property)"
   ]
  },
  {
   "cell_type": "code",
   "execution_count": 149,
   "metadata": {},
   "outputs": [
    {
     "data": {
      "text/plain": [
       "Name                   HO WAH RESTAURANT\n",
       "CUISINE DESCRIPTION              Chinese\n",
       "Name: 8, dtype: object"
      ]
     },
     "execution_count": 149,
     "metadata": {},
     "output_type": "execute_result"
    }
   ],
   "source": [
    "resturants[['Name', 'CUISINE DESCRIPTION']].iloc[8]"
   ]
  },
  {
   "cell_type": "code",
   "execution_count": 150,
   "metadata": {},
   "outputs": [
    {
     "data": {
      "text/html": [
       "<div>\n",
       "<style scoped>\n",
       "    .dataframe tbody tr th:only-of-type {\n",
       "        vertical-align: middle;\n",
       "    }\n",
       "\n",
       "    .dataframe tbody tr th {\n",
       "        vertical-align: top;\n",
       "    }\n",
       "\n",
       "    .dataframe thead th {\n",
       "        text-align: right;\n",
       "    }\n",
       "</style>\n",
       "<table border=\"1\" class=\"dataframe\">\n",
       "  <thead>\n",
       "    <tr style=\"text-align: right;\">\n",
       "      <th></th>\n",
       "      <th>Resturant Name</th>\n",
       "      <th>Cuisine Type</th>\n",
       "      <th>Address</th>\n",
       "      <th>Similarity Score</th>\n",
       "    </tr>\n",
       "  </thead>\n",
       "  <tbody>\n",
       "    <tr>\n",
       "      <td>0</td>\n",
       "      <td>B'KLYN'S PIZZA JOINT</td>\n",
       "      <td>Pizza/Italian</td>\n",
       "      <td>1406 86th St</td>\n",
       "      <td>0.999904</td>\n",
       "    </tr>\n",
       "    <tr>\n",
       "      <td>1</td>\n",
       "      <td>WING YUM</td>\n",
       "      <td>Chinese</td>\n",
       "      <td>11021 Jamaica Ave</td>\n",
       "      <td>0.999865</td>\n",
       "    </tr>\n",
       "    <tr>\n",
       "      <td>2</td>\n",
       "      <td>GIAN PIERO BAKERY</td>\n",
       "      <td>Bakery</td>\n",
       "      <td>4417 30th Ave</td>\n",
       "      <td>0.999620</td>\n",
       "    </tr>\n",
       "    <tr>\n",
       "      <td>3</td>\n",
       "      <td>PICCOLA STRADA RESTAURANT</td>\n",
       "      <td>Italian</td>\n",
       "      <td>77 3rd Ave</td>\n",
       "      <td>0.999611</td>\n",
       "    </tr>\n",
       "    <tr>\n",
       "      <td>4</td>\n",
       "      <td>N.Y. ACADEMY OF SCIENCE</td>\n",
       "      <td>American</td>\n",
       "      <td>250 Broadway</td>\n",
       "      <td>0.999439</td>\n",
       "    </tr>\n",
       "  </tbody>\n",
       "</table>\n",
       "</div>"
      ],
      "text/plain": [
       "              Resturant Name   Cuisine Type            Address  \\\n",
       "0       B'KLYN'S PIZZA JOINT  Pizza/Italian       1406 86th St   \n",
       "1                   WING YUM        Chinese  11021 Jamaica Ave   \n",
       "2          GIAN PIERO BAKERY         Bakery      4417 30th Ave   \n",
       "3  PICCOLA STRADA RESTAURANT        Italian         77 3rd Ave   \n",
       "4    N.Y. ACADEMY OF SCIENCE       American       250 Broadway   \n",
       "\n",
       "   Similarity Score  \n",
       "0          0.999904  \n",
       "1          0.999865  \n",
       "2          0.999620  \n",
       "3          0.999611  \n",
       "4          0.999439  "
      ]
     },
     "execution_count": 150,
     "metadata": {},
     "output_type": "execute_result"
    }
   ],
   "source": [
    "find_topk_restaurants(8, resturants)"
   ]
  }
 ],
 "metadata": {
  "kernelspec": {
   "display_name": "Python 3",
   "language": "python",
   "name": "python3"
  },
  "language_info": {
   "codemirror_mode": {
    "name": "ipython",
    "version": 3
   },
   "file_extension": ".py",
   "mimetype": "text/x-python",
   "name": "python",
   "nbconvert_exporter": "python",
   "pygments_lexer": "ipython3",
   "version": "3.7.4"
  }
 },
 "nbformat": 4,
 "nbformat_minor": 2
}
