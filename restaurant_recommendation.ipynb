{
 "cells": [
  {
   "cell_type": "code",
   "execution_count": 4,
   "metadata": {},
   "outputs": [],
   "source": [
    "import pandas as pd\n",
    "import numpy as np\n",
    "from sklearn import preprocessing"
   ]
  },
  {
   "cell_type": "code",
   "execution_count": 21,
   "metadata": {},
   "outputs": [],
   "source": [
    "def select_records(yelp_dohmh_property):\n",
    "    \"\"\"\n",
    "    filter duplicate scores\n",
    "    \"\"\"\n",
    "    df = yelp_dohmh_property.sort_values(by = 'GRADE DATE')\n",
    "    df = df.drop_duplicates(subset ='Name', keep = 'last').reset_index()\n",
    "    return df\n",
    "\n",
    "def get_cos_similarity(rest, other_rest):\n",
    "    \"\"\"\n",
    "    compute cosine similarity between a resturant profile with another resturant profiles\n",
    "    rest, other_rest: array\n",
    "    \"\"\"\n",
    "    dot_product = np.dot(rest, other_rest)\n",
    "    denominator = np.linalg.norm(rest)* np.linalg.norm(other_rest)\n",
    "    return dot_product/denominator \n",
    "\n",
    "\n",
    "def compute_cos_all(rest_id, all_rest):\n",
    "    \"\"\"\n",
    "    compute cosine similarities between a resturant profile with all other resturant profiles,\n",
    "    return cosine similarity score.\n",
    "    rest_id : id of a resturant, number \n",
    "    all_rest: array of normalized resturant profiles\n",
    "    \"\"\"\n",
    "    other_rest= np.delete(all_rest, rest_id, 0)\n",
    "    other_rest_score = []\n",
    "    for i in range(len(other_rest)):\n",
    "        cos_score = get_cos_similarity(all_rest[rest_id], other_rest[i])\n",
    "        other_rest_score.append(cos_score)\n",
    "    other_rest_score = np.array(other_rest_score)\n",
    "    return other_rest_score\n",
    "\n",
    "\n",
    "def normalize(df):\n",
    "    min_max_scaler = preprocessing.MinMaxScaler()\n",
    "    minmax_df = min_max_scaler.fit_transform(df)\n",
    "    return minmax_df\n",
    "            \n",
    "\n",
    "def find_topk_restaurants(rest_id, rest_df, topk = 5):\n",
    "    \"\"\" \n",
    "    find top k similary restaurants of rest_id according to cosines similarity.\n",
    "    \"\"\"\n",
    "    # filter out resturants that fail the resturant inspection\n",
    "    rest_features = rest_df[['SCORE','CUISINE DESCRIPTION', 'review_count', 'rating', 'price']][rest_df.SCORE <28]\n",
    "    rest_scores = compute_cos_all(rest_id, normalize(np.array(pd.get_dummies(rest_features))))\n",
    "    \n",
    "    topk_rest_scores = np.sort(rest_scores)[(len(rest_scores)-topk): len(rest_scores)][::-1]\n",
    "    rest_indexes = np.argsort(rest_scores)[(len(rest_scores)-topk): len(rest_scores)][::-1]\n",
    "    \n",
    "    topk_rest_names = []\n",
    "    topk_rest_cuisine = []\n",
    "    topk_rest_address = []\n",
    "    for i in rest_indexes:\n",
    "        topk_rest_names.append(rest_df['Name'][i])\n",
    "        topk_rest_cuisine.append(rest_df['CUISINE DESCRIPTION'][i])\n",
    "        topk_rest_address.append(rest_df['address'][i])\n",
    "    return pd.DataFrame({'Resturant Name':topk_rest_names, \n",
    "                         'Cuisine Type':topk_rest_cuisine, \n",
    "                         'Address': topk_rest_address,\n",
    "                         'Similarity Score':topk_rest_scores})"
   ]
  },
  {
   "cell_type": "code",
   "execution_count": 22,
   "metadata": {},
   "outputs": [],
   "source": [
    "yelp_dohmh_property = pd.read_csv('yelp_dohmh_property.csv', index_col=[0])\n",
    "resturants = select_records(yelp_dohmh_property)"
   ]
  },
  {
   "cell_type": "code",
   "execution_count": 23,
   "metadata": {},
   "outputs": [
    {
     "data": {
      "text/plain": [
       "Name                   FAN FRIED RICE BAR\n",
       "CUISINE DESCRIPTION                  Thai\n",
       "Name: 2, dtype: object"
      ]
     },
     "execution_count": 23,
     "metadata": {},
     "output_type": "execute_result"
    }
   ],
   "source": [
    "resturants[['Name', 'CUISINE DESCRIPTION']].iloc[2]"
   ]
  },
  {
   "cell_type": "code",
   "execution_count": 24,
   "metadata": {},
   "outputs": [
    {
     "data": {
      "text/html": [
       "<div>\n",
       "<style scoped>\n",
       "    .dataframe tbody tr th:only-of-type {\n",
       "        vertical-align: middle;\n",
       "    }\n",
       "\n",
       "    .dataframe tbody tr th {\n",
       "        vertical-align: top;\n",
       "    }\n",
       "\n",
       "    .dataframe thead th {\n",
       "        text-align: right;\n",
       "    }\n",
       "</style>\n",
       "<table border=\"1\" class=\"dataframe\">\n",
       "  <thead>\n",
       "    <tr style=\"text-align: right;\">\n",
       "      <th></th>\n",
       "      <th>Resturant Name</th>\n",
       "      <th>Cuisine Type</th>\n",
       "      <th>Address</th>\n",
       "      <th>Similarity Score</th>\n",
       "    </tr>\n",
       "  </thead>\n",
       "  <tbody>\n",
       "    <tr>\n",
       "      <td>0</td>\n",
       "      <td>DIVIERA DRIVE</td>\n",
       "      <td>Italian</td>\n",
       "      <td>131 Berry St</td>\n",
       "      <td>0.999552</td>\n",
       "    </tr>\n",
       "    <tr>\n",
       "      <td>1</td>\n",
       "      <td>SAHARA'S TURKISH CUISINE</td>\n",
       "      <td>Turkish</td>\n",
       "      <td>513 3rd Ave</td>\n",
       "      <td>0.996511</td>\n",
       "    </tr>\n",
       "    <tr>\n",
       "      <td>2</td>\n",
       "      <td>CHINESE MUSICIAN RESTAURANT</td>\n",
       "      <td>Chinese</td>\n",
       "      <td>151 Norman Ave</td>\n",
       "      <td>0.991154</td>\n",
       "    </tr>\n",
       "    <tr>\n",
       "      <td>3</td>\n",
       "      <td>NEW DAY SEAFOOD</td>\n",
       "      <td>Chinese</td>\n",
       "      <td>6202 18th Ave</td>\n",
       "      <td>0.989981</td>\n",
       "    </tr>\n",
       "    <tr>\n",
       "      <td>4</td>\n",
       "      <td>CARVEL STORE</td>\n",
       "      <td>Ice Cream, Gelato, Yogurt, Ices</td>\n",
       "      <td>11610 Liberty Ave</td>\n",
       "      <td>0.981878</td>\n",
       "    </tr>\n",
       "  </tbody>\n",
       "</table>\n",
       "</div>"
      ],
      "text/plain": [
       "                Resturant Name                     Cuisine Type  \\\n",
       "0                DIVIERA DRIVE                          Italian   \n",
       "1     SAHARA'S TURKISH CUISINE                          Turkish   \n",
       "2  CHINESE MUSICIAN RESTAURANT                          Chinese   \n",
       "3              NEW DAY SEAFOOD                          Chinese   \n",
       "4                 CARVEL STORE  Ice Cream, Gelato, Yogurt, Ices   \n",
       "\n",
       "             Address  Similarity Score  \n",
       "0       131 Berry St          0.999552  \n",
       "1        513 3rd Ave          0.996511  \n",
       "2     151 Norman Ave          0.991154  \n",
       "3      6202 18th Ave          0.989981  \n",
       "4  11610 Liberty Ave          0.981878  "
      ]
     },
     "execution_count": 24,
     "metadata": {},
     "output_type": "execute_result"
    }
   ],
   "source": [
    "find_topk_restaurants(2, resturants)"
   ]
  },
  {
   "cell_type": "code",
   "execution_count": null,
   "metadata": {},
   "outputs": [],
   "source": []
  }
 ],
 "metadata": {
  "kernelspec": {
   "display_name": "Python 3",
   "language": "python",
   "name": "python3"
  },
  "language_info": {
   "codemirror_mode": {
    "name": "ipython",
    "version": 3
   },
   "file_extension": ".py",
   "mimetype": "text/x-python",
   "name": "python",
   "nbconvert_exporter": "python",
   "pygments_lexer": "ipython3",
   "version": "3.7.4"
  }
 },
 "nbformat": 4,
 "nbformat_minor": 2
}
