{
 "cells": [
  {
   "cell_type": "code",
   "execution_count": 5,
   "metadata": {},
   "outputs": [],
   "source": [
    "import pandas as pd\n",
    "import numpy as np\n",
    "from yelpapi import YelpAPI\n",
    "api_key = 'NmaOvYquqktGmkmomZ6_9_SUSvMFfOqsr_YHl_mOMrs8Hph0FnPr_ennDAvviX-Vn87J71li6WWNx3XwAeFrdwQzgsNcElpL3L7zi8bWuhdVI2FkGMEbZDukioCvXnYx'\n",
    "yelp_api = YelpAPI(api_key)"
   ]
  },
  {
   "cell_type": "code",
   "execution_count": 6,
   "metadata": {},
   "outputs": [],
   "source": [
    "dohmh_property = pd.read_csv('dohmh_property.csv')\n",
    "unique_zipcode = np.load('unique_zipcode.npy')"
   ]
  },
  {
   "cell_type": "code",
   "execution_count": 7,
   "metadata": {},
   "outputs": [],
   "source": [
    "def search_query(zip_codes):\n",
    "    df = pd.DataFrame(columns=['name', 'cuisine', 'is_closed', 'review_count',\n",
    "                               'rating', 'price', 'address','zip_code', 'latitude','longitude','phone'])\n",
    "    for zip_code in zip_codes:\n",
    "        try:\n",
    "            response = yelp_api.search_query(location=str(zip_code), sort_by='distance', limit=50)['businesses']\n",
    "        except YelpAPI.YelpAPIError:\n",
    "            pass\n",
    "            \n",
    "        for i in range(len(response)):\n",
    "            if response[i]['location']['zip_code'] == str(zip_code):\n",
    "                try:\n",
    "                    df = df.append({'name': response[i]['name'],\n",
    "                                        'cuisine': response[i]['categories'][0]['alias'],\n",
    "                                        'is_closed': response[i]['is_closed'],\n",
    "                                        'review_count': response[i]['review_count'],\n",
    "                                        'rating': response[i]['rating'],\n",
    "                                        'price': response[i]['price'],\n",
    "                                        'address': response[i]['location']['address1'],\n",
    "                                        'zip_code': response[i]['location']['zip_code'],\n",
    "                                        'latitude':response[i]['coordinates']['latitude'],\n",
    "                                        'longitude': response[i]['coordinates']['longitude'],\n",
    "                                        'phone': response[i]['phone']}, \n",
    "                                           ignore_index=True)\n",
    "                except:\n",
    "                    pass\n",
    "    return df\n"
   ]
  },
  {
   "cell_type": "code",
   "execution_count": null,
   "metadata": {},
   "outputs": [],
   "source": [
    "unique_zipcodes = pd.unique(restaurants.zipcode)\n",
    "# yelp_restaurants = search_query(unique_zipcodes)\n",
    "# yelp_restaurants.to_csv('yelp_nyc_restaurants.csv')"
   ]
  },
  {
   "cell_type": "code",
   "execution_count": 8,
   "metadata": {},
   "outputs": [],
   "source": [
    "def join_yelp_dohmh_property(dohmh_property, yelp_rest):\n",
    "    dohmh_rest = dohmh_property[['DBA','CUISINE DESCRIPTION',  'SCORE', 'GRADE','BORO', 'BUILDING', 'STREET', 'ZIPCODE', \n",
    "                'CRITICAL FLAG','INSPECTION TYPE', 'VIOLATION CODE','ACTION','GRADE DATE','YEAR', 'AVERAGE PRICE']]\n",
    "    yelp_rest['building'] = yelp_rest.address.str.extract(r'(\\d+)')\n",
    "    joined = pd.merge(dohmh_rest , yelp_rest, how = 'inner', left_on=['ZIPCODE', 'BUILDING'], right_on=['zip_code', 'building'])\n",
    "    df = joined[[ # get name, cuisine type, inspection info, location from DOHMH\n",
    "                'DBA','CUISINE DESCRIPTION', 'SCORE', 'GRADE','BORO', 'ZIPCODE', \n",
    "                'CRITICAL FLAG','INSPECTION TYPE', 'VIOLATION CODE','ACTION','GRADE DATE','YEAR', \n",
    "                 # get average property price from property\n",
    "                'AVERAGE PRICE',\n",
    "                # get location, number of reviews, rating, price from yelp\n",
    "                'latitude', 'longitude', 'address', 'review_count', 'rating','price']]\n",
    "    df['price'] = df.price.replace('$$$$', 4).replace('$$$', 3).replace('$$', 2).replace('$', 1)\n",
    "    df = df.rename(columns = {'DBA': 'Name'})\n",
    "    return  df"
   ]
  },
  {
   "cell_type": "code",
   "execution_count": 9,
   "metadata": {},
   "outputs": [
    {
     "name": "stderr",
     "output_type": "stream",
     "text": [
      "/Users/aitingkuang/opt/anaconda3/lib/python3.7/site-packages/ipykernel_launcher.py:13: SettingWithCopyWarning: \n",
      "A value is trying to be set on a copy of a slice from a DataFrame.\n",
      "Try using .loc[row_indexer,col_indexer] = value instead\n",
      "\n",
      "See the caveats in the documentation: http://pandas.pydata.org/pandas-docs/stable/user_guide/indexing.html#returning-a-view-versus-a-copy\n",
      "  del sys.path[0]\n"
     ]
    }
   ],
   "source": [
    "yelp_restaurants = pd.read_csv('yelp_nyc_restaurants.csv')\n",
    "yelp_dohmh_property = join_yelp_dohmh_property(dohmh_property, yelp_restaurants)"
   ]
  },
  {
   "cell_type": "code",
   "execution_count": 15,
   "metadata": {},
   "outputs": [
    {
     "data": {
      "text/plain": [
       "chinese          332\n",
       "pizza            319\n",
       "coffee           277\n",
       "bakeries         212\n",
       "delis            156\n",
       "                ... \n",
       "landmarks          1\n",
       "newmexican         1\n",
       "nonprofit          1\n",
       "armenian           1\n",
       "healthmarkets      1\n",
       "Name: cuisine, Length: 189, dtype: int64"
      ]
     },
     "execution_count": 15,
     "metadata": {},
     "output_type": "execute_result"
    }
   ],
   "source": [
    "yelp_restaurants.cuisine.value_counts()"
   ]
  },
  {
   "cell_type": "code",
   "execution_count": 18,
   "metadata": {},
   "outputs": [
    {
     "data": {
      "text/plain": [
       "American              31473\n",
       "Chinese               18794\n",
       "Caribbean              9357\n",
       "Café/Coffee/Tea        8306\n",
       "Pizza                  7047\n",
       "                      ...  \n",
       "Scandinavian             23\n",
       "Southwestern             18\n",
       "Iranian                  18\n",
       "Nuts/Confectionary       15\n",
       "Californian              12\n",
       "Name: CUISINE DESCRIPTION, Length: 83, dtype: int64"
      ]
     },
     "execution_count": 18,
     "metadata": {},
     "output_type": "execute_result"
    }
   ],
   "source": [
    "dohmh_property['CUISINE DESCRIPTION'].value_counts()"
   ]
  },
  {
   "cell_type": "code",
   "execution_count": null,
   "metadata": {},
   "outputs": [],
   "source": [
    "yelp_dohmh_property[['Name','SCORE','CUISINE DESCRIPTION','AVERAGE PRICE', 'review_count', 'rating', 'price']]"
   ]
  }
 ],
 "metadata": {
  "kernelspec": {
   "display_name": "Python 3",
   "language": "python",
   "name": "python3"
  },
  "language_info": {
   "codemirror_mode": {
    "name": "ipython",
    "version": 3
   },
   "file_extension": ".py",
   "mimetype": "text/x-python",
   "name": "python",
   "nbconvert_exporter": "python",
   "pygments_lexer": "ipython3",
   "version": "3.7.4"
  }
 },
 "nbformat": 4,
 "nbformat_minor": 2
}
