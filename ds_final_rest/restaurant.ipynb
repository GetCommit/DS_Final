{
 "cells": [
  {
   "cell_type": "code",
   "execution_count": 3,
   "metadata": {},
   "outputs": [],
   "source": [
    "import pandas as pd\n",
    "import numpy as np\n",
    "import matplotlib.pyplot as plt\n",
    "import seaborn as sns\n",
    "from sodapy import Socrata\n"
   ]
  },
  {
   "cell_type": "markdown",
   "metadata": {},
   "source": [
    "https://data.cityofnewyork.us/Health/DOHMH-New-York-City-Restaurant-Inspection-Results/43nn-pn8j"
   ]
  },
  {
   "cell_type": "code",
   "execution_count": 35,
   "metadata": {},
   "outputs": [
    {
     "name": "stderr",
     "output_type": "stream",
     "text": [
      "WARNING:root:Requests made without an app_token will be subject to strict throttling limits.\n"
     ]
    }
   ],
   "source": [
    "client = Socrata(\"data.cityofnewyork.us\", None)\n",
    "results = client.get(\"43nn-pn8j\", limit=500000)\n",
    "results_df = pd.DataFrame.from_records(results)"
   ]
  },
  {
   "cell_type": "code",
   "execution_count": 36,
   "metadata": {},
   "outputs": [
    {
     "data": {
      "text/html": [
       "<div>\n",
       "<style scoped>\n",
       "    .dataframe tbody tr th:only-of-type {\n",
       "        vertical-align: middle;\n",
       "    }\n",
       "\n",
       "    .dataframe tbody tr th {\n",
       "        vertical-align: top;\n",
       "    }\n",
       "\n",
       "    .dataframe thead th {\n",
       "        text-align: right;\n",
       "    }\n",
       "</style>\n",
       "<table border=\"1\" class=\"dataframe\">\n",
       "  <thead>\n",
       "    <tr style=\"text-align: right;\">\n",
       "      <th></th>\n",
       "      <th>camis</th>\n",
       "      <th>dba</th>\n",
       "      <th>boro</th>\n",
       "      <th>building</th>\n",
       "      <th>street</th>\n",
       "      <th>zipcode</th>\n",
       "      <th>cuisine_description</th>\n",
       "      <th>inspection_date</th>\n",
       "      <th>action</th>\n",
       "      <th>violation_code</th>\n",
       "      <th>violation_description</th>\n",
       "      <th>critical_flag</th>\n",
       "      <th>score</th>\n",
       "      <th>record_date</th>\n",
       "      <th>inspection_type</th>\n",
       "      <th>latitude</th>\n",
       "      <th>longitude</th>\n",
       "      <th>grade</th>\n",
       "      <th>grade_date</th>\n",
       "    </tr>\n",
       "  </thead>\n",
       "  <tbody>\n",
       "    <tr>\n",
       "      <td>0</td>\n",
       "      <td>50075379</td>\n",
       "      <td>BATTLE HILL TAVERN</td>\n",
       "      <td>Brooklyn</td>\n",
       "      <td>686</td>\n",
       "      <td>6TH AVE</td>\n",
       "      <td>11215</td>\n",
       "      <td>Pizza/Italian</td>\n",
       "      <td>2018-05-31T00:00:00.000</td>\n",
       "      <td>Violations were cited in the following area(s).</td>\n",
       "      <td>06F</td>\n",
       "      <td>Wiping cloths soiled or not stored in sanitizi...</td>\n",
       "      <td>Y</td>\n",
       "      <td>12</td>\n",
       "      <td>2020-04-03T06:01:38.000</td>\n",
       "      <td>Pre-permit (Operational) / Initial Inspection</td>\n",
       "      <td>40.660102061056</td>\n",
       "      <td>-73.99113704192</td>\n",
       "      <td>NaN</td>\n",
       "      <td>NaN</td>\n",
       "    </tr>\n",
       "    <tr>\n",
       "      <td>1</td>\n",
       "      <td>50092762</td>\n",
       "      <td>TESSEY'S INTERNATIONAL KITCHEN</td>\n",
       "      <td>Bronx</td>\n",
       "      <td>2542B</td>\n",
       "      <td>WHITE PLAINS RD</td>\n",
       "      <td>10467</td>\n",
       "      <td>Soul Food</td>\n",
       "      <td>2019-06-05T00:00:00.000</td>\n",
       "      <td>Violations were cited in the following area(s).</td>\n",
       "      <td>10B</td>\n",
       "      <td>Plumbing not properly installed or maintained;...</td>\n",
       "      <td>N</td>\n",
       "      <td>8</td>\n",
       "      <td>2020-04-03T06:01:38.000</td>\n",
       "      <td>Pre-permit (Non-operational) / Initial Inspection</td>\n",
       "      <td>40.863867998459</td>\n",
       "      <td>-73.867391431519</td>\n",
       "      <td>NaN</td>\n",
       "      <td>NaN</td>\n",
       "    </tr>\n",
       "    <tr>\n",
       "      <td>2</td>\n",
       "      <td>50018589</td>\n",
       "      <td>ZHEN GOOD TASTE</td>\n",
       "      <td>Queens</td>\n",
       "      <td>5961</td>\n",
       "      <td>69TH ST</td>\n",
       "      <td>11378</td>\n",
       "      <td>Chinese</td>\n",
       "      <td>2017-12-12T00:00:00.000</td>\n",
       "      <td>Violations were cited in the following area(s).</td>\n",
       "      <td>06D</td>\n",
       "      <td>Food contact surface not properly washed, rins...</td>\n",
       "      <td>Y</td>\n",
       "      <td>10</td>\n",
       "      <td>2020-04-03T06:01:38.000</td>\n",
       "      <td>Cycle Inspection / Re-inspection</td>\n",
       "      <td>40.721837387655</td>\n",
       "      <td>-73.893054937639</td>\n",
       "      <td>A</td>\n",
       "      <td>2017-12-12T00:00:00.000</td>\n",
       "    </tr>\n",
       "    <tr>\n",
       "      <td>3</td>\n",
       "      <td>41615409</td>\n",
       "      <td>HOT KITCHEN</td>\n",
       "      <td>Manhattan</td>\n",
       "      <td>104</td>\n",
       "      <td>2 AVENUE</td>\n",
       "      <td>10003</td>\n",
       "      <td>Chinese</td>\n",
       "      <td>2017-04-25T00:00:00.000</td>\n",
       "      <td>Violations were cited in the following area(s).</td>\n",
       "      <td>10F</td>\n",
       "      <td>Non-food contact surface improperly constructe...</td>\n",
       "      <td>N</td>\n",
       "      <td>12</td>\n",
       "      <td>2020-04-03T06:01:38.000</td>\n",
       "      <td>Cycle Inspection / Initial Inspection</td>\n",
       "      <td>40.727477757409</td>\n",
       "      <td>-73.988465378159</td>\n",
       "      <td>A</td>\n",
       "      <td>2017-04-25T00:00:00.000</td>\n",
       "    </tr>\n",
       "    <tr>\n",
       "      <td>4</td>\n",
       "      <td>50037013</td>\n",
       "      <td>EMBERS RESTAURANT</td>\n",
       "      <td>Brooklyn</td>\n",
       "      <td>9519</td>\n",
       "      <td>3RD AVE</td>\n",
       "      <td>11209</td>\n",
       "      <td>Steak</td>\n",
       "      <td>2019-10-16T00:00:00.000</td>\n",
       "      <td>Violations were cited in the following area(s).</td>\n",
       "      <td>04N</td>\n",
       "      <td>Filth flies or food/refuse/sewage-associated (...</td>\n",
       "      <td>Y</td>\n",
       "      <td>52</td>\n",
       "      <td>2020-04-03T06:01:38.000</td>\n",
       "      <td>Cycle Inspection / Initial Inspection</td>\n",
       "      <td>40.617037314894</td>\n",
       "      <td>-74.033674718848</td>\n",
       "      <td>NaN</td>\n",
       "      <td>NaN</td>\n",
       "    </tr>\n",
       "  </tbody>\n",
       "</table>\n",
       "</div>"
      ],
      "text/plain": [
       "      camis                             dba       boro building  \\\n",
       "0  50075379              BATTLE HILL TAVERN   Brooklyn      686   \n",
       "1  50092762  TESSEY'S INTERNATIONAL KITCHEN      Bronx    2542B   \n",
       "2  50018589                 ZHEN GOOD TASTE     Queens     5961   \n",
       "3  41615409                     HOT KITCHEN  Manhattan      104   \n",
       "4  50037013               EMBERS RESTAURANT   Brooklyn     9519   \n",
       "\n",
       "            street zipcode cuisine_description          inspection_date  \\\n",
       "0          6TH AVE   11215       Pizza/Italian  2018-05-31T00:00:00.000   \n",
       "1  WHITE PLAINS RD   10467           Soul Food  2019-06-05T00:00:00.000   \n",
       "2          69TH ST   11378             Chinese  2017-12-12T00:00:00.000   \n",
       "3         2 AVENUE   10003             Chinese  2017-04-25T00:00:00.000   \n",
       "4          3RD AVE   11209               Steak  2019-10-16T00:00:00.000   \n",
       "\n",
       "                                            action violation_code  \\\n",
       "0  Violations were cited in the following area(s).            06F   \n",
       "1  Violations were cited in the following area(s).            10B   \n",
       "2  Violations were cited in the following area(s).            06D   \n",
       "3  Violations were cited in the following area(s).            10F   \n",
       "4  Violations were cited in the following area(s).            04N   \n",
       "\n",
       "                               violation_description critical_flag score  \\\n",
       "0  Wiping cloths soiled or not stored in sanitizi...             Y    12   \n",
       "1  Plumbing not properly installed or maintained;...             N     8   \n",
       "2  Food contact surface not properly washed, rins...             Y    10   \n",
       "3  Non-food contact surface improperly constructe...             N    12   \n",
       "4  Filth flies or food/refuse/sewage-associated (...             Y    52   \n",
       "\n",
       "               record_date                                    inspection_type  \\\n",
       "0  2020-04-03T06:01:38.000      Pre-permit (Operational) / Initial Inspection   \n",
       "1  2020-04-03T06:01:38.000  Pre-permit (Non-operational) / Initial Inspection   \n",
       "2  2020-04-03T06:01:38.000                   Cycle Inspection / Re-inspection   \n",
       "3  2020-04-03T06:01:38.000              Cycle Inspection / Initial Inspection   \n",
       "4  2020-04-03T06:01:38.000              Cycle Inspection / Initial Inspection   \n",
       "\n",
       "          latitude         longitude grade               grade_date  \n",
       "0  40.660102061056   -73.99113704192   NaN                      NaN  \n",
       "1  40.863867998459  -73.867391431519   NaN                      NaN  \n",
       "2  40.721837387655  -73.893054937639     A  2017-12-12T00:00:00.000  \n",
       "3  40.727477757409  -73.988465378159     A  2017-04-25T00:00:00.000  \n",
       "4  40.617037314894  -74.033674718848   NaN                      NaN  "
      ]
     },
     "execution_count": 36,
     "metadata": {},
     "output_type": "execute_result"
    }
   ],
   "source": [
    "# restaurants = pd.read_csv('DOHMH_New_York_City_Restaurant_Inspection_Results.csv')\n",
    "restaurants = results_df.drop(['bin', 'bbl','nta','phone','census_tract','council_district','community_board' ], axis = 1)\n",
    "restaurants.head()"
   ]
  },
  {
   "cell_type": "code",
   "execution_count": 37,
   "metadata": {},
   "outputs": [
    {
     "data": {
      "text/plain": [
       "Index(['camis', 'dba', 'boro', 'building', 'street', 'zipcode',\n",
       "       'cuisine_description', 'inspection_date', 'action', 'violation_code',\n",
       "       'violation_description', 'critical_flag', 'score', 'record_date',\n",
       "       'inspection_type', 'latitude', 'longitude', 'grade', 'grade_date'],\n",
       "      dtype='object')"
      ]
     },
     "execution_count": 37,
     "metadata": {},
     "output_type": "execute_result"
    }
   ],
   "source": [
    "restaurants.columns"
   ]
  },
  {
   "cell_type": "markdown",
   "metadata": {},
   "source": [
    "‘A’ — indicates a score of 0–13 \\\n",
    "‘B’ — indicates a score of 14–27 \\\n",
    "‘C’ — indicates a score of greater than 27 \\\n",
    "‘Grade Pending’ — indicates the restaurant received an ‘B’ or a ‘C’ and is contesting the grade. \\\n",
    "if the restaurant recieve more than 28 score, then the resturant will be closed until next inspection\n",
    "https://www.nytimes.com/2017/05/17/nyregion/new-york-today-what-do-restaurant-grades-mean.html \\\n",
    "https://data.cityofnewyork.us/Health/DOHMH-New-York-City-Restaurant-Inspection-Results/43nn-pn8j \\\n",
    "https://docs.google.com/presentation/d/1pSC0NFqhwqRO36UCAgwElhfs5zsi28Bk-fI0yPt6peU/edit#slide=id.g6df4927a1c_0_10"
   ]
  },
  {
   "cell_type": "code",
   "execution_count": 38,
   "metadata": {
    "scrolled": true
   },
   "outputs": [],
   "source": [
    "# restaurants[restaurants.score >= 28]\n",
    "restaurants['score'] = restaurants['score'].astype(float)\n",
    "restaurants['close'] = restaurants['score'].apply(lambda x: 1 if x > 27 else 0)"
   ]
  },
  {
   "cell_type": "code",
   "execution_count": 43,
   "metadata": {},
   "outputs": [
    {
     "data": {
      "text/html": [
       "<div>\n",
       "<style scoped>\n",
       "    .dataframe tbody tr th:only-of-type {\n",
       "        vertical-align: middle;\n",
       "    }\n",
       "\n",
       "    .dataframe tbody tr th {\n",
       "        vertical-align: top;\n",
       "    }\n",
       "\n",
       "    .dataframe thead th {\n",
       "        text-align: right;\n",
       "    }\n",
       "</style>\n",
       "<table border=\"1\" class=\"dataframe\">\n",
       "  <thead>\n",
       "    <tr style=\"text-align: right;\">\n",
       "      <th></th>\n",
       "      <th>camis</th>\n",
       "      <th>dba</th>\n",
       "      <th>boro</th>\n",
       "      <th>building</th>\n",
       "      <th>street</th>\n",
       "      <th>zipcode</th>\n",
       "      <th>cuisine_description</th>\n",
       "      <th>inspection_date</th>\n",
       "      <th>action</th>\n",
       "      <th>violation_code</th>\n",
       "      <th>violation_description</th>\n",
       "      <th>critical_flag</th>\n",
       "      <th>score</th>\n",
       "      <th>record_date</th>\n",
       "      <th>inspection_type</th>\n",
       "      <th>latitude</th>\n",
       "      <th>longitude</th>\n",
       "      <th>grade</th>\n",
       "      <th>grade_date</th>\n",
       "      <th>close</th>\n",
       "    </tr>\n",
       "  </thead>\n",
       "  <tbody>\n",
       "    <tr>\n",
       "      <td>0</td>\n",
       "      <td>50075379</td>\n",
       "      <td>BATTLE HILL TAVERN</td>\n",
       "      <td>Brooklyn</td>\n",
       "      <td>686</td>\n",
       "      <td>6TH AVE</td>\n",
       "      <td>11215</td>\n",
       "      <td>Pizza/Italian</td>\n",
       "      <td>2018-05-31T00:00:00.000</td>\n",
       "      <td>Violations were cited in the following area(s).</td>\n",
       "      <td>06F</td>\n",
       "      <td>Wiping cloths soiled or not stored in sanitizi...</td>\n",
       "      <td>Y</td>\n",
       "      <td>12.0</td>\n",
       "      <td>2020-04-03T06:01:38.000</td>\n",
       "      <td>Pre-permit (Operational) / Initial Inspection</td>\n",
       "      <td>40.660102061056</td>\n",
       "      <td>-73.99113704192</td>\n",
       "      <td>NaN</td>\n",
       "      <td>NaN</td>\n",
       "      <td>0</td>\n",
       "    </tr>\n",
       "    <tr>\n",
       "      <td>1</td>\n",
       "      <td>50092762</td>\n",
       "      <td>TESSEY'S INTERNATIONAL KITCHEN</td>\n",
       "      <td>Bronx</td>\n",
       "      <td>2542B</td>\n",
       "      <td>WHITE PLAINS RD</td>\n",
       "      <td>10467</td>\n",
       "      <td>Soul Food</td>\n",
       "      <td>2019-06-05T00:00:00.000</td>\n",
       "      <td>Violations were cited in the following area(s).</td>\n",
       "      <td>10B</td>\n",
       "      <td>Plumbing not properly installed or maintained;...</td>\n",
       "      <td>N</td>\n",
       "      <td>8.0</td>\n",
       "      <td>2020-04-03T06:01:38.000</td>\n",
       "      <td>Pre-permit (Non-operational) / Initial Inspection</td>\n",
       "      <td>40.863867998459</td>\n",
       "      <td>-73.867391431519</td>\n",
       "      <td>NaN</td>\n",
       "      <td>NaN</td>\n",
       "      <td>0</td>\n",
       "    </tr>\n",
       "    <tr>\n",
       "      <td>2</td>\n",
       "      <td>50018589</td>\n",
       "      <td>ZHEN GOOD TASTE</td>\n",
       "      <td>Queens</td>\n",
       "      <td>5961</td>\n",
       "      <td>69TH ST</td>\n",
       "      <td>11378</td>\n",
       "      <td>Chinese</td>\n",
       "      <td>2017-12-12T00:00:00.000</td>\n",
       "      <td>Violations were cited in the following area(s).</td>\n",
       "      <td>06D</td>\n",
       "      <td>Food contact surface not properly washed, rins...</td>\n",
       "      <td>Y</td>\n",
       "      <td>10.0</td>\n",
       "      <td>2020-04-03T06:01:38.000</td>\n",
       "      <td>Cycle Inspection / Re-inspection</td>\n",
       "      <td>40.721837387655</td>\n",
       "      <td>-73.893054937639</td>\n",
       "      <td>A</td>\n",
       "      <td>2017-12-12T00:00:00.000</td>\n",
       "      <td>0</td>\n",
       "    </tr>\n",
       "  </tbody>\n",
       "</table>\n",
       "</div>"
      ],
      "text/plain": [
       "      camis                             dba      boro building  \\\n",
       "0  50075379              BATTLE HILL TAVERN  Brooklyn      686   \n",
       "1  50092762  TESSEY'S INTERNATIONAL KITCHEN     Bronx    2542B   \n",
       "2  50018589                 ZHEN GOOD TASTE    Queens     5961   \n",
       "\n",
       "            street zipcode cuisine_description          inspection_date  \\\n",
       "0          6TH AVE   11215       Pizza/Italian  2018-05-31T00:00:00.000   \n",
       "1  WHITE PLAINS RD   10467           Soul Food  2019-06-05T00:00:00.000   \n",
       "2          69TH ST   11378             Chinese  2017-12-12T00:00:00.000   \n",
       "\n",
       "                                            action violation_code  \\\n",
       "0  Violations were cited in the following area(s).            06F   \n",
       "1  Violations were cited in the following area(s).            10B   \n",
       "2  Violations were cited in the following area(s).            06D   \n",
       "\n",
       "                               violation_description critical_flag  score  \\\n",
       "0  Wiping cloths soiled or not stored in sanitizi...             Y   12.0   \n",
       "1  Plumbing not properly installed or maintained;...             N    8.0   \n",
       "2  Food contact surface not properly washed, rins...             Y   10.0   \n",
       "\n",
       "               record_date                                    inspection_type  \\\n",
       "0  2020-04-03T06:01:38.000      Pre-permit (Operational) / Initial Inspection   \n",
       "1  2020-04-03T06:01:38.000  Pre-permit (Non-operational) / Initial Inspection   \n",
       "2  2020-04-03T06:01:38.000                   Cycle Inspection / Re-inspection   \n",
       "\n",
       "          latitude         longitude grade               grade_date  close  \n",
       "0  40.660102061056   -73.99113704192   NaN                      NaN      0  \n",
       "1  40.863867998459  -73.867391431519   NaN                      NaN      0  \n",
       "2  40.721837387655  -73.893054937639     A  2017-12-12T00:00:00.000      0  "
      ]
     },
     "execution_count": 43,
     "metadata": {},
     "output_type": "execute_result"
    }
   ],
   "source": [
    "restaurants.head(3)"
   ]
  },
  {
   "cell_type": "code",
   "execution_count": 41,
   "metadata": {},
   "outputs": [
    {
     "data": {
      "image/png": "[encoded data removed]",
      "text/plain": [
       "<Figure size 720x432 with 1 Axes>"
      ]
     },
     "metadata": {
      "needs_background": "light"
     },
     "output_type": "display_data"
    }
   ],
   "source": [
    "plt.figure(figsize=(10,6))\n",
    "plt.hist(restaurants['score'], bins = int(max(restaurants['score']) - min(restaurants['score'])))\n",
    "plt.vlines(x = 28, ymin =0, ymax = 40000, color = 'r')\n",
    "plt.title('score distribution')\n",
    "plt.show()"
   ]
  },
  {
   "cell_type": "code",
   "execution_count": 46,
   "metadata": {},
   "outputs": [],
   "source": [
    "cuisine_dummies = pd.get_dummies(restaurants['cuisine_description'])"
   ]
  },
  {
   "cell_type": "code",
   "execution_count": 48,
   "metadata": {},
   "outputs": [
    {
     "ename": "ValueError",
     "evalue": "Expected 2D array, got scalar array instead:\narray=None.\nReshape your data either using array.reshape(-1, 1) if your data has a single feature or array.reshape(1, -1) if it contains a single sample.",
     "output_type": "error",
     "traceback": [
      "\u001b[0;31m---------------------------------------------------------------------------\u001b[0m",
      "\u001b[0;31mValueError\u001b[0m                                Traceback (most recent call last)",
      "\u001b[0;32m<ipython-input-48-30701db31f34>\u001b[0m in \u001b[0;36m<module>\u001b[0;34m\u001b[0m\n\u001b[1;32m      3\u001b[0m \u001b[0mX\u001b[0m\u001b[0;34m=\u001b[0m \u001b[0mX\u001b[0m\u001b[0;34m.\u001b[0m\u001b[0mfillna\u001b[0m\u001b[0;34m(\u001b[0m\u001b[0mX\u001b[0m\u001b[0;34m.\u001b[0m\u001b[0mmean\u001b[0m\u001b[0;34m(\u001b[0m\u001b[0;34m)\u001b[0m\u001b[0;34m,\u001b[0m \u001b[0minplace\u001b[0m\u001b[0;34m=\u001b[0m\u001b[0;32mTrue\u001b[0m\u001b[0;34m)\u001b[0m\u001b[0;34m\u001b[0m\u001b[0;34m\u001b[0m\u001b[0m\n\u001b[1;32m      4\u001b[0m \u001b[0my\u001b[0m \u001b[0;34m=\u001b[0m \u001b[0mrestaurants\u001b[0m\u001b[0;34m[\u001b[0m\u001b[0;34m'score'\u001b[0m\u001b[0;34m]\u001b[0m\u001b[0;34m\u001b[0m\u001b[0;34m\u001b[0m\u001b[0m\n\u001b[0;32m----> 5\u001b[0;31m \u001b[0mreg\u001b[0m \u001b[0;34m=\u001b[0m \u001b[0mLinearRegression\u001b[0m\u001b[0;34m(\u001b[0m\u001b[0;34m)\u001b[0m\u001b[0;34m.\u001b[0m\u001b[0mfit\u001b[0m\u001b[0;34m(\u001b[0m\u001b[0mX\u001b[0m\u001b[0;34m,\u001b[0m \u001b[0my\u001b[0m\u001b[0;34m)\u001b[0m\u001b[0;34m\u001b[0m\u001b[0;34m\u001b[0m\u001b[0m\n\u001b[0m\u001b[1;32m      6\u001b[0m \u001b[0mreg\u001b[0m\u001b[0;34m.\u001b[0m\u001b[0mcoef_\u001b[0m\u001b[0;34m\u001b[0m\u001b[0;34m\u001b[0m\u001b[0m\n",
      "\u001b[0;32m~/opt/anaconda3/lib/python3.7/site-packages/sklearn/linear_model/_base.py\u001b[0m in \u001b[0;36mfit\u001b[0;34m(self, X, y, sample_weight)\u001b[0m\n\u001b[1;32m    490\u001b[0m         \u001b[0mn_jobs_\u001b[0m \u001b[0;34m=\u001b[0m \u001b[0mself\u001b[0m\u001b[0;34m.\u001b[0m\u001b[0mn_jobs\u001b[0m\u001b[0;34m\u001b[0m\u001b[0;34m\u001b[0m\u001b[0m\n\u001b[1;32m    491\u001b[0m         X, y = check_X_y(X, y, accept_sparse=['csr', 'csc', 'coo'],\n\u001b[0;32m--> 492\u001b[0;31m                          y_numeric=True, multi_output=True)\n\u001b[0m\u001b[1;32m    493\u001b[0m \u001b[0;34m\u001b[0m\u001b[0m\n\u001b[1;32m    494\u001b[0m         \u001b[0;32mif\u001b[0m \u001b[0msample_weight\u001b[0m \u001b[0;32mis\u001b[0m \u001b[0;32mnot\u001b[0m \u001b[0;32mNone\u001b[0m\u001b[0;34m:\u001b[0m\u001b[0;34m\u001b[0m\u001b[0;34m\u001b[0m\u001b[0m\n",
      "\u001b[0;32m~/opt/anaconda3/lib/python3.7/site-packages/sklearn/utils/validation.py\u001b[0m in \u001b[0;36mcheck_X_y\u001b[0;34m(X, y, accept_sparse, accept_large_sparse, dtype, order, copy, force_all_finite, ensure_2d, allow_nd, multi_output, ensure_min_samples, ensure_min_features, y_numeric, warn_on_dtype, estimator)\u001b[0m\n\u001b[1;32m    753\u001b[0m                     \u001b[0mensure_min_features\u001b[0m\u001b[0;34m=\u001b[0m\u001b[0mensure_min_features\u001b[0m\u001b[0;34m,\u001b[0m\u001b[0;34m\u001b[0m\u001b[0;34m\u001b[0m\u001b[0m\n\u001b[1;32m    754\u001b[0m                     \u001b[0mwarn_on_dtype\u001b[0m\u001b[0;34m=\u001b[0m\u001b[0mwarn_on_dtype\u001b[0m\u001b[0;34m,\u001b[0m\u001b[0;34m\u001b[0m\u001b[0;34m\u001b[0m\u001b[0m\n\u001b[0;32m--> 755\u001b[0;31m                     estimator=estimator)\n\u001b[0m\u001b[1;32m    756\u001b[0m     \u001b[0;32mif\u001b[0m \u001b[0mmulti_output\u001b[0m\u001b[0;34m:\u001b[0m\u001b[0;34m\u001b[0m\u001b[0;34m\u001b[0m\u001b[0m\n\u001b[1;32m    757\u001b[0m         y = check_array(y, 'csr', force_all_finite=True, ensure_2d=False,\n",
      "\u001b[0;32m~/opt/anaconda3/lib/python3.7/site-packages/sklearn/utils/validation.py\u001b[0m in \u001b[0;36mcheck_array\u001b[0;34m(array, accept_sparse, accept_large_sparse, dtype, order, copy, force_all_finite, ensure_2d, allow_nd, ensure_min_samples, ensure_min_features, warn_on_dtype, estimator)\u001b[0m\n\u001b[1;32m    547\u001b[0m                     \u001b[0;34m\"Reshape your data either using array.reshape(-1, 1) if \"\u001b[0m\u001b[0;34m\u001b[0m\u001b[0;34m\u001b[0m\u001b[0m\n\u001b[1;32m    548\u001b[0m                     \u001b[0;34m\"your data has a single feature or array.reshape(1, -1) \"\u001b[0m\u001b[0;34m\u001b[0m\u001b[0;34m\u001b[0m\u001b[0m\n\u001b[0;32m--> 549\u001b[0;31m                     \"if it contains a single sample.\".format(array))\n\u001b[0m\u001b[1;32m    550\u001b[0m             \u001b[0;31m# If input is 1D raise error\u001b[0m\u001b[0;34m\u001b[0m\u001b[0;34m\u001b[0m\u001b[0;34m\u001b[0m\u001b[0m\n\u001b[1;32m    551\u001b[0m             \u001b[0;32mif\u001b[0m \u001b[0marray\u001b[0m\u001b[0;34m.\u001b[0m\u001b[0mndim\u001b[0m \u001b[0;34m==\u001b[0m \u001b[0;36m1\u001b[0m\u001b[0;34m:\u001b[0m\u001b[0;34m\u001b[0m\u001b[0;34m\u001b[0m\u001b[0m\n",
      "\u001b[0;31mValueError\u001b[0m: Expected 2D array, got scalar array instead:\narray=None.\nReshape your data either using array.reshape(-1, 1) if your data has a single feature or array.reshape(1, -1) if it contains a single sample."
     ]
    }
   ],
   "source": [
    "from sklearn.linear_model import LinearRegression\n",
    "X = cuisine_dummies\n",
    "X = X.fillna(X.mean(), inplace=True)\n",
    "y = restaurants['score']\n",
    "reg = LinearRegression().fit(X, y)\n",
    "reg.coef_"
   ]
  },
  {
   "cell_type": "code",
   "execution_count": 50,
   "metadata": {},
   "outputs": [],
   "source": [
    "X"
   ]
  },
  {
   "cell_type": "code",
   "execution_count": null,
   "metadata": {},
   "outputs": [],
   "source": []
  },
  {
   "cell_type": "code",
   "execution_count": null,
   "metadata": {},
   "outputs": [],
   "source": []
  },
  {
   "cell_type": "code",
   "execution_count": null,
   "metadata": {},
   "outputs": [],
   "source": []
  }
 ],
 "metadata": {
  "kernelspec": {
   "display_name": "Python 3",
   "language": "python",
   "name": "python3"
  },
  "language_info": {
   "codemirror_mode": {
    "name": "ipython",
    "version": 3
   },
   "file_extension": ".py",
   "mimetype": "text/x-python",
   "name": "python",
   "nbconvert_exporter": "python",
   "pygments_lexer": "ipython3",
   "version": "3.7.4"
  }
 },
 "nbformat": 4,
 "nbformat_minor": 2
}
